{
 "cells": [
  {
   "cell_type": "markdown",
   "metadata": {},
   "source": [
    "#### Parameter Tuning"
   ]
  },
  {
   "cell_type": "code",
   "execution_count": 1,
   "metadata": {},
   "outputs": [],
   "source": [
    "#Set Tuning Parameter\n",
    "k = list(range(10,50))\n",
    "docConcentration = [0.05, 0.1, 0.5, 1, 5, 10]\n",
    "topicConcentration = [0.05, 0.1, 0.5, 1, 5, 10]"
   ]
  },
  {
   "cell_type": "code",
   "execution_count": null,
   "metadata": {},
   "outputs": [],
   "source": [
    "#Test Set\n",
    "k = [25]\n",
    "docConcentration = [[0.05]]\n",
    "#docConcentration = [float(x) for x in docConcentration]\n",
    "topicConcentration = [0.05]\n",
    "#topicConcentration = [float(x) for x in topicConcentration]b"
   ]
  },
  {
   "cell_type": "code",
   "execution_count": null,
   "metadata": {},
   "outputs": [],
   "source": [
    "j = 2\n",
    "result_list = []\n",
    "for i in k:\n",
    "    for d in docConcentration:\n",
    "        for t in topicConcentration:\n",
    "            lda = LDA(featuresCol=\"features\", maxIter = 100, seed=1, optimizer=\"online\", k = i, topicConcentration = t, docConcentration = d)\n",
    "            ldaModel=lda.fit(tfidf_new)\n",
    "            \n",
    "            #Check if it's distributed model then convert to local model\n",
    "            if ldaModel.isDistributed() == True:\n",
    "                ldaModel = ldaModel.toLocal()\n",
    "                logperplexity = ldaModel.logPerplexity(tfidf_new)\n",
    "                path = \"./models\"\n",
    "                model_number = '{}'.format(j)\n",
    "                ldaModel.save(path + 'LDAModel_'+ model_number)\n",
    "                lda.save(path + 'LDA_'+ model_number)\n",
    "            else:\n",
    "                logperplexity = ldaModel.logPerplexity(tfidf_new)\n",
    "                path = \"./models\"\n",
    "                model_number = '{}'.format(j)\n",
    "                ldaModel.save(path + 'LDAModel_'+ model_number)\n",
    "                lda.save(path + 'LDA_'+ model_number)\n",
    "            \n",
    "            #Append results to list   \n",
    "            result_list.append(tuple([j,logperplexity,i,d,t]))\n",
    "            j = j+1"
   ]
  },
  {
   "cell_type": "code",
   "execution_count": null,
   "metadata": {},
   "outputs": [],
   "source": [
    "from operator import itemgetter\n",
    "result_list.sort(key=itemgetter(1))"
   ]
  },
  {
   "cell_type": "markdown",
   "metadata": {},
   "source": [
    "#### Evaluate Model Performance on Brand New Data"
   ]
  },
  {
   "cell_type": "code",
   "execution_count": null,
   "metadata": {},
   "outputs": [],
   "source": [
    "from pyspark.ml.clustering import LocalLDAModel\n",
    "# from pyspark.ml.clustering import DistributedLDAModel\n",
    "path = os.getcwd()\n",
    "ldaModel_base = LocalLDAModel.load(path + 'LDAModel_base')\n",
    "ldaModel_1 = LocalLDAModel.load(path + 'LDAModel_1')"
   ]
  },
  {
   "cell_type": "code",
   "execution_count": null,
   "metadata": {},
   "outputs": [],
   "source": []
  },
  {
   "cell_type": "code",
   "execution_count": null,
   "metadata": {},
   "outputs": [],
   "source": []
  }
 ],
 "metadata": {
  "kernelspec": {
   "display_name": "Python 3",
   "language": "python",
   "name": "python3"
  },
  "language_info": {
   "codemirror_mode": {
    "name": "ipython",
    "version": 3
   },
   "file_extension": ".py",
   "mimetype": "text/x-python",
   "name": "python",
   "nbconvert_exporter": "python",
   "pygments_lexer": "ipython3",
   "version": "3.7.2"
  }
 },
 "nbformat": 4,
 "nbformat_minor": 2
}
